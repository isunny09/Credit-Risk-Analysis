{
 "cells": [
  {
   "cell_type": "markdown",
   "id": "55bc705c",
   "metadata": {},
   "source": [
    "Credit Risk Analysis:\n",
    "\n",
    "Introduction: In this project, I embarked on an analysis of a loan dataset with the goal of understanding its structure, identifying patterns, and building predictive models for loan status classification. The dataset, sourced from a CSV file named \"loan.csv,\" provided an opportunity to delve into the world of finance and predictive modeling.\n",
    "\n",
    "Data Loading and Initial Exploration: First, I loaded the dataset into a Pandas DataFrame named load_df. To get a glimpse of the data, I displayed the first few rows and checked for missing values. Upon initial exploration, I found that the dataset contained several columns that were irrelevant to my analysis. Therefore, I pruned these columns to keep only the ones necessary for my investigation.\n",
    "\n",
    "Data Cleaning and Preprocessing: Cleaning the data was crucial to ensure its quality for analysis. I tackled missing values by either filling them appropriately or dropping them when necessary. Visualizations, such as heatmaps, helped me gain insights into the missingness patterns in the data. Additionally, I encoded categorical variables using label encoding to prepare them for analysis. Furthermore, I engineered a new feature, the debt-to-income ratio (DTI), which I believed could be informative for predicting loan status.\n",
    "\n",
    "Exploratory Data Analysis (EDA): EDA allowed me to dive deeper into the dataset and uncover meaningful insights. I started by computing summary statistics for numerical variables and visualizing their distributions using histograms. For categorical variables, I created bar plots and count plots to understand their distributions. Moreover, I utilized box plots to identify relationships between numerical variables and loan status, providing valuable insights into potential predictors of loan outcomes.\n",
    "\n",
    "Modeling: With the data prepared and explored, I proceeded to build predictive models for loan status classification. I trained Random Forest, Neural Network, and XGBoost Classifier models using the features extracted from the dataset. Evaluation of these models revealed promising performance, with the XGB model performing the best due to the complex nature and the multi-class nature of the target variable. Visualizations such as ROC-AUC curves and feature importance plots helped me assess model performance and identify influential features.\n",
    "\n",
    "Conclusion: In conclusion, this project offered valuable insights into the loan dataset, enabling a deeper understanding of its characteristics and predictive modeling potential. The developed models show promise in accurately classifying loan statuses, though further optimizations and fine-tuning could enhance their performance. Overall, the project serves as a foundation for future analyses in the domain of finance and predictive modeling.\n",
    "\n",
    "Recommendations: Based on my analysis, I recommend exploring further optimizations and fine-tuning of the predictive models to potentially improve performance. Additionally, investigating additional features or incorporating external data sources could enrich the analysis and provide deeper insights into loan outcomes.\n",
    "\n",
    "Limitations: It's important to acknowledge the limitations of this analysis. For instance, the dataset may be subject to biases or limitations inherent in its collection process. Furthermore, the predictive models developed in this project may not capture all factors influencing loan outcomes, leaving room for further exploration and refinement.\n",
    "\n",
    "Acknowledgments: I would like to express gratitude to the sources of the dataset, as well as the libraries and resources utilized in this project. Without their contributions, this analysis would not have been possible.\n",
    "\n",
    "References: Any references to literature, documentation, or methodologies used in the project are duly acknowledged and appreciated. These references provided invaluable guidance and insights throughout the analysis process.\n",
    "\n",
    "Tools and Techniques Used: \n",
    "Programming Languages: Python Libraries: NumPy, Pandas, Matplotlib, Seaborn, scikit-learn, xgboost Data Analysis and Visualization: Exploratory Data Analysis (EDA), Data Cleaning, Data Preprocessing, Feature Engineering, Statistical Analysis, Visualization Techniques (Histograms, Box Plots, Heatmaps) \n",
    "\n",
    "Modeling Techniques: Random Forest Classifier, Neural Network (MLPClassifier), XGBoost Classifier, Label Encoding, Evaluation Metrics (Accuracy, Confusion Matrix, Classification Report, ROC-AUC Curve), Feature Importance Analysis \n",
    "\n",
    "Machine Learning: Supervised Learning, Classification\n",
    "\n",
    "Business Value: Risk Management: The predictive models developed in this project can assist financial institutions in assessing the risk associated with lending by accurately classifying loan statuses. This enables proactive risk management strategies to minimize losses. \n",
    "\n",
    "Customer Insights: Analysis of loan characteristics and borrower attributes provides valuable insights into customer behavior and preferences, aiding in the development of targeted marketing strategies and personalized financial products.\n",
    "\n",
    "Operational Efficiency: Automation of loan status classification processes through machine learning models enhances operational efficiency, allowing financial institutions to streamline decision-making and allocate resources effectively.\n",
    "\n",
    "Applicability: Financial Services Industry: The project's insights and predictive models are directly applicable to financial institutions such as banks, credit unions, and lending platforms for improving loan approval processes, managing risks, and enhancing customer experiences. \n",
    "\n",
    "Credit Scoring Systems: The developed models can be integrated into credit scoring systems to assess borrowers' creditworthiness and determine appropriate lending terms and interest rates. \n",
    "\n",
    "Fintech Startups: Fintech companies can leverage the project's methodologies and techniques to develop innovative solutions for peer-to-peer lending, microfinance, and alternative credit scoring."
   ]
  },
  {
   "cell_type": "code",
   "execution_count": null,
   "id": "9be4f28b",
   "metadata": {},
   "outputs": [],
   "source": [
    "#Importing the necessary libraries\n",
    "import numpy as np\n",
    "import pandas as pd\n",
    "import seaborn as sns\n",
    "import matplotlib.pyplot as plt\n",
    "from IPython.display import display, Markdown, Latex\n",
    "from sklearn.preprocessing import LabelEncoder\n",
    "from sklearn import model_selection\n",
    "from sklearn.cluster import KMeans\n",
    "from sklearn.neighbors import KNeighborsClassifier\n",
    "from sklearn.metrics import roc_curve, auc, roc_auc_score\n",
    "from sklearn.metrics import f1_score\n",
    "pd.set_option('display.max_rows', None)\n",
    "import warnings\n",
    "warnings.filterwarnings(\"ignore\")"
   ]
  },
  {
   "cell_type": "code",
   "execution_count": null,
   "id": "186fd069",
   "metadata": {},
   "outputs": [],
   "source": [
    "load_df = pd.read_csv(\"loan.csv\", low_memory=False)"
   ]
  },
  {
   "cell_type": "code",
   "execution_count": null,
   "id": "92eed245",
   "metadata": {},
   "outputs": [],
   "source": [
    "load_df.head(5)"
   ]
  },
  {
   "cell_type": "code",
   "execution_count": null,
   "id": "0f16804d",
   "metadata": {},
   "outputs": [],
   "source": [
    "load_df.info()"
   ]
  },
  {
   "cell_type": "code",
   "execution_count": null,
   "id": "8373f68e",
   "metadata": {},
   "outputs": [],
   "source": [
    "#There is lots of missing data and unnecessary columns and I'd like to delete them."
   ]
  },
  {
   "cell_type": "code",
   "execution_count": null,
   "id": "66cf66da",
   "metadata": {},
   "outputs": [],
   "source": [
    "#Calculating the missing data percentage\n",
    "missing_percentage = load_df.isnull().mean() * 100\n",
    "missing_percentage"
   ]
  },
  {
   "cell_type": "code",
   "execution_count": null,
   "id": "fa3d036e",
   "metadata": {},
   "outputs": [],
   "source": [
    "#Ater careful consideration, decided to keep just these columns as they're the most relevent and also have very little to no missing data\n",
    "columns_to_keep = ['loan_amnt', 'term', 'int_rate', 'installment', 'grade', 'emp_length', 'home_ownership',\n",
    "                   'annual_inc', 'verification_status', 'loan_status', 'purpose']\n",
    "loan_df = load_df[columns_to_keep]"
   ]
  },
  {
   "cell_type": "code",
   "execution_count": null,
   "id": "b48bcb30",
   "metadata": {},
   "outputs": [],
   "source": [
    "loan_df.head() #just checking the datset to make sure it's all good"
   ]
  },
  {
   "cell_type": "code",
   "execution_count": null,
   "id": "5d1b6736",
   "metadata": {},
   "outputs": [],
   "source": [
    "loan_df.info()"
   ]
  },
  {
   "cell_type": "code",
   "execution_count": null,
   "id": "cf168747",
   "metadata": {},
   "outputs": [],
   "source": [
    "#I have now removed all the irrelevent columns ans kept only the columns needed for the analysis.\n",
    "#Checking the missing values in the final dataset\n",
    "missing_perc = loan_df.isnull().mean() * 100\n",
    "missing_perc"
   ]
  },
  {
   "cell_type": "code",
   "execution_count": null,
   "id": "126bbc55",
   "metadata": {},
   "outputs": [],
   "source": [
    "#Checking the unique values in the columns\n",
    "loan_df[\"emp_length\"].describe()"
   ]
  },
  {
   "cell_type": "code",
   "execution_count": null,
   "id": "362b363d",
   "metadata": {},
   "outputs": [],
   "source": [
    "load_df[\"emp_length\"].value_counts()"
   ]
  },
  {
   "cell_type": "code",
   "execution_count": null,
   "id": "59fe6a10",
   "metadata": {},
   "outputs": [],
   "source": [
    "#Replacing the null values in annual income with zero\n",
    "loan_df.annual_inc = loan_df.annual_inc.fillna(0)\n",
    "loan_df.isnull().sum()"
   ]
  },
  {
   "cell_type": "code",
   "execution_count": null,
   "id": "cb1fa7f4",
   "metadata": {},
   "outputs": [],
   "source": [
    "missing_matrix = loan_df.isnull()\n",
    "\n",
    "# Create a heatmap to visualize the missingness matrix to check if the data pattern\n",
    "plt.figure(figsize=(10, 6))\n",
    "sns.heatmap(missing_matrix, cbar=False, cmap='viridis')\n",
    "plt.title('Missingness Matrix')\n",
    "plt.xlabel('Variables')\n",
    "plt.ylabel('Observations')\n",
    "plt.show()"
   ]
  },
  {
   "cell_type": "code",
   "execution_count": null,
   "id": "566922c2",
   "metadata": {},
   "outputs": [],
   "source": [
    "#Checking the correlation between the differnt variables\n",
    "correlation_matrix = loan_df.corr()\n",
    "print(correlation_matrix)\n",
    "plt.figure(figsize=(10, 8))\n",
    "sns.heatmap(correlation_matrix, annot=True, cmap='coolwarm', fmt=\".2f\")\n",
    "plt.title('Correlation Matrix Heatmap')\n",
    "plt.show()"
   ]
  },
  {
   "cell_type": "markdown",
   "id": "b1e17fdf",
   "metadata": {},
   "source": [
    "Here's a summary of the correlation matrix:\n",
    "\n",
    "loan_amnt vs. int_rate: There is a positive correlation of approximately 0.145 between the loan amount and the interest rate. This indicates that as the loan amount increases, the interest rate tends to increase slightly.\n",
    "\n",
    "loan_amnt vs. installment: There is a strong positive correlation of approximately 0.945 between the loan amount and the installment. This indicates that higher loan amounts are associated with higher installments, which is intuitive since larger loans would require larger periodic payments.\n",
    "\n",
    "loan_amnt vs. annual_inc: There is a moderate positive correlation of approximately 0.333 between the loan amount and the annual income. This suggests that individuals with higher annual incomes may qualify for larger loan amounts.\n",
    "\n",
    "int_rate vs. installment: There is a positive correlation of approximately 0.133 between the interest rate and the installment. This suggests that higher interest rates are associated with higher installment payments.\n",
    "\n",
    "int_rate vs. annual_inc: There is a negative correlation of approximately -0.073 between the interest rate and the annual income. This suggests that individuals with higher annual incomes may qualify for loans with lower interest rates, and vice versa.\n",
    "\n",
    "installment vs. annual_inc: There is a moderate positive correlation of approximately 0.326 between the installment and the annual income. This suggests that individuals with higher annual incomes may be able to afford higher installment payments."
   ]
  },
  {
   "cell_type": "code",
   "execution_count": null,
   "id": "e09d8e81",
   "metadata": {},
   "outputs": [],
   "source": [
    "#Deleting the rows where the column emp_length has missing values\n",
    "loan_df.dropna(subset=['emp_length'], inplace=True)"
   ]
  },
  {
   "cell_type": "code",
   "execution_count": null,
   "id": "ec853bbe",
   "metadata": {},
   "outputs": [],
   "source": [
    "loan_df.info()"
   ]
  },
  {
   "cell_type": "code",
   "execution_count": null,
   "id": "8b28e873",
   "metadata": {},
   "outputs": [],
   "source": [
    "#Understanding the Data:\n",
    "#Review the summary statistics for numerical variables (loan_amnt, int_rate, installment, annual_inc) and categorical variables (term, grade, emp_length, home_ownership, verification_status, loan_status, purpose).\n",
    "#Check for any unusual values or outliers in the data.\n",
    "#Understand the distribution and range of values for each variable\""
   ]
  },
  {
   "cell_type": "code",
   "execution_count": null,
   "id": "b8869d40",
   "metadata": {},
   "outputs": [],
   "source": [
    "numerical_data_summary = loan_df[['loan_amnt', 'int_rate', 'installment', 'annual_inc']].describe()\n",
    "print(\"Summary statistics for numerical variables:\")\n",
    "print(numerical_data_summary)"
   ]
  },
  {
   "cell_type": "markdown",
   "id": "43da3984",
   "metadata": {},
   "source": [
    "Loan Amount (loan_amnt):\n",
    "\n",
    "The average loan amount is approximately $14,914, with a considerable standard deviation of around $8,450, indicating significant variability in loan amounts.\n",
    "\n",
    "The range of loan amounts spans from $500 to $35,000, suggesting a diverse set of loan products or borrower needs.\n",
    "The interquartile range (IQR) of $11,675 indicates that the middle 50\\% of loan amounts fall within a relatively wide range, emphasizing the diversity in loan sizes.\n",
    "Interest Rate (int_rate):\n",
    "\n",
    "The average interest rate is approximately 13.25\\%, with a standard deviation of about 4.39\\%, indicating variability in interest rates across loans.\n",
    "Interest rates range from 5.32\\% to 28.99\\%, suggesting a broad spectrum of rates offered to borrowers.\n",
    "The IQR of 6.21\\% reflects the variability in interest rates experienced by the majority of borrowers, with rates ranging from 9.99\\% to 16.20\\%.\n",
    "Installment Amount (installment):\n",
    "\n",
    "The average installment amount is approximately $441, with a standard deviation of about $245, indicating variability in installment payments.\n",
    "\n",
    "Installment payments range from $15.67 to $1,445.46, showcasing a wide range of payment obligations for borrowers.\n",
    "The IQR of $313.51 highlights the variability in installment amounts, with payments for the middle 50% of borrowers ranging from $263.93 to $577.44.\n",
    "Annual Income (annual_inc):\n",
    "\n",
    "The average annual income is approximately $76,353, with a standard deviation of around $65,643, indicating significant variability in income levels among borrowers.\n",
    "Annual incomes range from $1,896 to $9,500,000, reflecting a wide disparity in income levels across borrowers.\n",
    "The IQR of $43,000 underscores the variability in income levels among the majority of borrowers, with incomes ranging from $47,000 to $90,000.\n",
    "\n",
    "Overall, these summary statistics reveal a diverse set of loan products and borrower profiles within the dataset. The wide ranges and significant standard deviations suggest that borrowers vary widely in their loan amounts, interest rates, installment payments, and annual incomes. Understanding these variations is crucial for assessing risk, making lending decisions, and tailoring financial products to meet the needs of different borrower segments. Further analysis, such as exploring relationships between variables or identifying outliers, could provide additional insights for informed decision-making."
   ]
  },
  {
   "cell_type": "markdown",
   "id": "82ed2dd6",
   "metadata": {},
   "source": [
    "Exploring Relationships:\n",
    "\n",
    "I'll calculate pairwise correlations between numerical variables to understand any linear relationships.\n",
    "I'll visualize relationships between pairs of numerical variables using scatter plots.\n",
    "To explore relationships between categorical variables, I'll create cross-tabulations or pivot tables.\n",
    "Analyzing Loan Status:\n",
    "\n",
    "I'll examine the distribution of loan_status to understand the proportion of loans that are fully paid, charged off, or in other states.\n",
    "I'll investigate factors like loan amount, interest rate, employment length, and purpose to understand their influence on loan status.\n",
    "\n",
    "Feature Extraction:\n",
    "\n",
    "I'll extract additional features from existing variables that might be informative for predicting loan status or other outcomes.\n",
    "For example, I'll create derived features like debt-to-income ratio (DTI) using installment and annual_inc.\n",
    "Visualizing Loan Performance:\n",
    "\n",
    "I'll plot bar charts or pie charts to visualize the distribution of loan_status.\n",
    "Using stacked bar charts, I'll show the distribution of loan_status within different categories of categorical variables like grade or verification_status.\n",
    "Understanding Loan Characteristics:\n",
    "\n",
    "I'll explore how loan amounts are distributed across different loan terms (e.g., 36 months vs. 60 months) and loan grades.\n",
    "I'll investigate the relationship between interest rates and loan grades to understand how risk is priced.\n",
    "Identifying Trends Over Time:\n",
    "\n",
    "I'll analyze trends in loan issuance or loan performance over time by plotting time series plots or line charts."
   ]
  },
  {
   "cell_type": "code",
   "execution_count": null,
   "id": "e0813944",
   "metadata": {},
   "outputs": [],
   "source": [
    "# Calculating pairwise correlations\n",
    "correlation_matrix = loan_df.corr()\n",
    "\n",
    "# Print correlation matrix\n",
    "print(\"Pairwise Correlation Matrix:\")\n",
    "print(correlation_matrix)\n",
    "\n",
    "sns.heatmap(correlation_matrix)"
   ]
  },
  {
   "cell_type": "code",
   "execution_count": null,
   "id": "9dddc349",
   "metadata": {},
   "outputs": [],
   "source": [
    "# Plot scatter plots for pairs of numerical variables\n",
    "plt.figure(figsize=(20,20))\n",
    "sns.pairplot(loan_df[['loan_amnt', 'int_rate', 'installment', 'annual_inc']], markers='.', diag_kind='kde', plot_kws={'alpha': 0.7, 's': 80}, palette='deep')\n",
    "plt.xticks(fontsize=14)\n",
    "plt.yticks(fontsize=14)\n",
    "plt.show()"
   ]
  },
  {
   "cell_type": "code",
   "execution_count": null,
   "id": "cf9b9342",
   "metadata": {},
   "outputs": [],
   "source": [
    "loan_df.info()"
   ]
  },
  {
   "cell_type": "code",
   "execution_count": null,
   "id": "346052cb",
   "metadata": {},
   "outputs": [],
   "source": [
    "# Creating cross-tabulations for pairs of categorical variables\n",
    "cross_tab = pd.crosstab(loan_df['term'], loan_df['grade'])\n",
    "\n",
    "# Creating pivot table for exploring relationships between categorical variables\n",
    "pivot_table = loan_df.pivot_table(index='home_ownership', columns='loan_status', aggfunc='size')\n",
    "from tabulate import tabulate\n",
    "\n",
    "# Print cross-tabulation between Term and Grade\n",
    "print(\"Cross-Tabulation between Term and Grade:\")\n",
    "print(tabulate(cross_tab, headers='keys', tablefmt='psql'))\n",
    "\n",
    "# Print pivot table for Home Ownership and Loan Status\n",
    "print(\"\\nPivot Table for Home Ownership and Loan Status:\")\n",
    "print(tabulate(pivot_table, headers='keys', tablefmt='psql'))\n"
   ]
  },
  {
   "cell_type": "code",
   "execution_count": null,
   "id": "90ed918a",
   "metadata": {},
   "outputs": [],
   "source": [
    "pivot_table.plot(kind='bar', stacked=True, figsize=(12, 8))\n",
    "plt.title('Loan Status by Home Ownership')\n",
    "plt.xlabel('Home Ownership')\n",
    "plt.ylabel('Count')\n",
    "plt.xticks(rotation=45)\n",
    "plt.legend(title='Loan Status', bbox_to_anchor=(1.05, 1), loc='upper left')\n",
    "plt.show()\n"
   ]
  },
  {
   "cell_type": "code",
   "execution_count": null,
   "id": "8d2b3bbf",
   "metadata": {},
   "outputs": [],
   "source": [
    "# Calculate the proportion of each loan status\n",
    "loan_status_proportion = loan_df['loan_status'].value_counts(normalize=True) * 100\n",
    "print(\"Proportion of Loan Status:\")\n",
    "print(loan_status_proportion)"
   ]
  },
  {
   "cell_type": "code",
   "execution_count": null,
   "id": "7c0a8882",
   "metadata": {},
   "outputs": [],
   "source": [
    "# Calculate proportions for each loan status within each grade\n",
    "normalized_df = loan_df.groupby(['grade', 'loan_status']).size().reset_index(name='count')\n",
    "normalized_df['proportion'] = normalized_df.groupby('grade')['count'].apply(lambda x: x / x.sum())\n",
    "\n",
    "plt.figure(figsize=(14, 8))\n",
    "sns.barplot(x='proportion', y='grade', hue='loan_status', data=normalized_df, palette='bright')\n",
    "plt.title('Loan Status Distribution by Grade (Normalized)')\n",
    "plt.xlabel('Proportion')\n",
    "plt.ylabel('Grade')\n",
    "plt.legend(title='Loan Status')\n",
    "plt.show()"
   ]
  },
  {
   "cell_type": "code",
   "execution_count": null,
   "id": "196ed7fa",
   "metadata": {},
   "outputs": [],
   "source": [
    "# Calculate debt-to-income ratio (DTI)\n",
    "loan_df['dti'] = (loan_df['installment'] * 12) / loan_df['annual_inc']\n",
    "\n",
    "# Visualize the distribution of the new feature (DTI)\n",
    "plt.figure(figsize=(8, 6))\n",
    "sns.histplot(loan_df['dti'], bins=30, kde=True)\n",
    "plt.title('Distribution of Debt-to-Income Ratio (DTI)')\n",
    "plt.xlabel('Debt-to-Income Ratio (DTI)')\n",
    "plt.ylabel('Count')\n",
    "plt.show()\n"
   ]
  },
  {
   "cell_type": "code",
   "execution_count": null,
   "id": "5e4e3133",
   "metadata": {},
   "outputs": [],
   "source": [
    "\n",
    "# Plot relationship between loan amount and loan status\n",
    "plt.figure(figsize=(10, 6))\n",
    "sns.boxplot(x='loan_status', y='loan_amnt', data=loan_df, palette='bright')\n",
    "plt.title('Loan Amount by Loan Status')\n",
    "plt.xlabel('Loan Status')\n",
    "plt.xticks(rotation=45)\n",
    "plt.ylabel('Loan Amount ($)')\n",
    "plt.show()\n",
    "# This plot shows the distribution of loan amounts for different loan statuses. It helps in understanding if there are significant differences in loan amounts between different loan statuses.\n",
    "\n",
    "# Plot relationship between interest rate and loan status\n",
    "plt.figure(figsize=(10, 6))\n",
    "sns.boxplot(x='loan_status', y='int_rate', data=loan_df, palette='bright')\n",
    "plt.title('Interest Rate by Loan Status')\n",
    "plt.xlabel('Loan Status')\n",
    "plt.xticks(rotation=45)\n",
    "plt.ylabel('Interest Rate (%)')\n",
    "plt.show()\n",
    "# This plot displays how interest rates vary across different loan statuses. It aids in identifying if interest rates differ significantly based on loan status.\n",
    "\n",
    "# Plotting boxplot for loan amounts across different loan terms\n",
    "plt.figure(figsize=(10, 6))\n",
    "sns.boxplot(x='term', y='loan_amnt', data=loan_df, palette='bright')\n",
    "plt.title('Loan Amount Distribution Across Loan Terms')\n",
    "plt.xlabel('Term')\n",
    "plt.ylabel('Loan Amount ($)')\n",
    "plt.show()\n",
    "# This plot displays the distribution of loan amounts across different loan terms (e.g., 36 months vs. 60 months), providing insights into how loan amounts vary based on the loan term.\n",
    "\n",
    "# Plotting boxplot for interest rates across different loan grades\n",
    "plt.figure(figsize=(10, 6))\n",
    "sns.boxplot(x='grade', y='int_rate', data=loan_df, palette='bright', order=sorted(loan_df['grade'].unique()))\n",
    "plt.title('Interest Rates Across Loan Grades')\n",
    "plt.xlabel('Grade')\n",
    "plt.ylabel('Interest Rate (%)')\n",
    "plt.show()\n",
    "# This plot illustrates how interest rates vary across different loan grades. It helps in understanding how risk is priced based on the borrower's creditworthiness.\n"
   ]
  },
  {
   "cell_type": "code",
   "execution_count": null,
   "id": "1c010c8f",
   "metadata": {},
   "outputs": [],
   "source": [
    "# Plot relationship between purpose and loan status\n",
    "plt.figure(figsize=(16, 8))\n",
    "sns.countplot(y='purpose', hue='loan_status', data=loan_df, palette='bright')\n",
    "plt.title('Loan Status by Purpose')\n",
    "plt.ylabel('Purpose')\n",
    "plt.xlabel('Count')\n",
    "plt.xticks(rotation=90)\n",
    "plt.show()\n",
    "# This plot shows the distribution of loan statuses across different loan purposes. It helps in understanding if certain loan purposes are associated with higher approval rates or lower default rates."
   ]
  },
  {
   "cell_type": "code",
   "execution_count": null,
   "id": "6d3b32f7",
   "metadata": {},
   "outputs": [],
   "source": [
    "# Plot relationship between employment length and loan status\n",
    "plt.figure(figsize=(10, 6))\n",
    "sns.countplot(y='emp_length', hue='loan_status', data=loan_df, palette='bright')\n",
    "plt.title('Loan Status by Employment Length')\n",
    "plt.ylabel('Employment Length')\n",
    "plt.xticks(rotation=90)\n",
    "plt.xlabel('Count')\n",
    "plt.tight_layout()\n",
    "plt.show()\n",
    "# This plot illustrates the distribution of loan statuses across various employment lengths. It provides insights into the influence of employment length on loan approval or rejection."
   ]
  },
  {
   "cell_type": "code",
   "execution_count": null,
   "id": "25311617",
   "metadata": {},
   "outputs": [],
   "source": [
    "loan_df.sample(5)"
   ]
  },
  {
   "cell_type": "code",
   "execution_count": null,
   "id": "f8e7289b",
   "metadata": {},
   "outputs": [],
   "source": [
    "loan_df.info()"
   ]
  },
  {
   "cell_type": "code",
   "execution_count": null,
   "id": "a7726823",
   "metadata": {},
   "outputs": [],
   "source": [
    "loan_df[\"grade\"].value_counts()"
   ]
  },
  {
   "cell_type": "code",
   "execution_count": null,
   "id": "fff10159",
   "metadata": {},
   "outputs": [],
   "source": [
    "loan_df.info()"
   ]
  },
  {
   "cell_type": "code",
   "execution_count": null,
   "id": "b312af8f",
   "metadata": {},
   "outputs": [],
   "source": [
    "categorical_cols = ['term', 'grade', 'emp_length', 'home_ownership', 'verification_status', 'purpose', 'loan_status']"
   ]
  },
  {
   "cell_type": "code",
   "execution_count": null,
   "id": "e0b8912c",
   "metadata": {},
   "outputs": [],
   "source": [
    "# Initialize LabelEncoder\n",
    "label_encoder = LabelEncoder()\n",
    "\n",
    "# Encode categorical variables using label encoding\n",
    "for col in categorical_cols:\n",
    "    loan_df[col] = label_encoder.fit_transform(loan_df[col])\n",
    "\n",
    "# Display the DataFrame with encoded categorical variables\n",
    "print(loan_df.head())\n"
   ]
  },
  {
   "cell_type": "code",
   "execution_count": null,
   "id": "27d047ac",
   "metadata": {},
   "outputs": [],
   "source": [
    "loan_df.sample(5)"
   ]
  },
  {
   "cell_type": "code",
   "execution_count": null,
   "id": "f5d24443",
   "metadata": {},
   "outputs": [],
   "source": [
    "loan_df.loan_status.value_counts()"
   ]
  },
  {
   "cell_type": "code",
   "execution_count": null,
   "id": "598cb545",
   "metadata": {},
   "outputs": [],
   "source": [
    "loan_df.info()"
   ]
  },
  {
   "cell_type": "code",
   "execution_count": null,
   "id": "9d8f660f",
   "metadata": {},
   "outputs": [],
   "source": [
    "# Initialize LabelEncoder\n",
    "label_encoder = LabelEncoder()\n",
    "\n",
    "# Encode loan_status column\n",
    "loan_df['loan_status_encoded'] = label_encoder.fit_transform(loan_df['loan_status'])\n"
   ]
  },
  {
   "cell_type": "code",
   "execution_count": null,
   "id": "8722ec06",
   "metadata": {},
   "outputs": [],
   "source": [
    "loan_df.sample(10)"
   ]
  },
  {
   "cell_type": "code",
   "execution_count": null,
   "id": "9abaf9c3",
   "metadata": {},
   "outputs": [],
   "source": [
    "loan_df.info()"
   ]
  },
  {
   "cell_type": "code",
   "execution_count": null,
   "id": "2993150f",
   "metadata": {},
   "outputs": [],
   "source": [
    "loan_df.drop('loan_status', axis=1, inplace=True)"
   ]
  },
  {
   "cell_type": "code",
   "execution_count": null,
   "id": "ab612d5e",
   "metadata": {},
   "outputs": [],
   "source": [
    "loan_df.sample(5)"
   ]
  },
  {
   "cell_type": "code",
   "execution_count": null,
   "id": "6a7ea383",
   "metadata": {},
   "outputs": [],
   "source": [
    "loan_df.info()"
   ]
  },
  {
   "cell_type": "code",
   "execution_count": null,
   "id": "7604e470",
   "metadata": {},
   "outputs": [],
   "source": [
    "loan_df.isna().sum()"
   ]
  },
  {
   "cell_type": "code",
   "execution_count": null,
   "id": "f6024985",
   "metadata": {},
   "outputs": [],
   "source": [
    "# Check for missing values (NaNs)\n",
    "missing_values = loan_df.isnull().sum()\n",
    "print(\"Missing values:\\n\", missing_values)\n",
    "\n",
    "# Check for infinite values\n",
    "infinite_values = np.isinf(loan_df).sum()\n",
    "print(\"Infinite values:\\n\", infinite_values)\n"
   ]
  },
  {
   "cell_type": "code",
   "execution_count": null,
   "id": "6cdd938f",
   "metadata": {},
   "outputs": [],
   "source": [
    "# Identify records with zero income\n",
    "zero_income_indices = loan_df[loan_df['annual_inc'] == 0].index\n",
    "\n",
    "# Set the debt-to-income ratio to NaN for records with zero income\n",
    "loan_df.loc[zero_income_indices, 'dti'] = np.nan\n"
   ]
  },
  {
   "cell_type": "code",
   "execution_count": null,
   "id": "c56f00b7",
   "metadata": {},
   "outputs": [],
   "source": [
    "# Check for infinite values\n",
    "infinite_values = np.isinf(loan_df).sum()\n",
    "print(\"Infinite values:\\n\", infinite_values)"
   ]
  },
  {
   "cell_type": "code",
   "execution_count": null,
   "id": "654577ca",
   "metadata": {},
   "outputs": [],
   "source": [
    "# Replace NaN values with the mean of the column\n",
    "mean_dti = loan_df['dti'].mean()\n",
    "loan_df['dti'].fillna(mean_dti, inplace=True)\n"
   ]
  },
  {
   "cell_type": "code",
   "execution_count": null,
   "id": "8a5efe66",
   "metadata": {},
   "outputs": [],
   "source": [
    "#Visualisations to understand the data better\n",
    "# Remove initial histograms for numerical variables\n",
    "# Histograms for Numerical Variables with improvements\n",
    "\n",
    "'''Histograms for Numerical Variables with Improvements:\n",
    "\n",
    "This block of code plots histograms for numerical variables such as loan amount, interest rate, installment, and annual income with improvements like proper binning and kernel density estimation (KDE).\n",
    "Insights: These histograms provide a visual representation of the distribution of each numerical variable, allowing us to understand their central tendency, spread, and presence of outliers.'''\n",
    "\n",
    "\n",
    "plt.figure(figsize=(12, 8))\n",
    "\n",
    "plt.subplot(2, 2, 1)\n",
    "sns.histplot(loan_df['loan_amnt'], bins=30, kde=True, alpha=0.7)\n",
    "plt.title('Distribution of Loan Amount')\n",
    "\n",
    "plt.subplot(2, 2, 2)\n",
    "sns.histplot(loan_df['int_rate'], bins=30, kde=True, alpha=0.7)\n",
    "plt.title('Distribution of Interest Rate')\n",
    "\n",
    "plt.subplot(2, 2, 3)\n",
    "sns.histplot(loan_df['installment'], bins=30, kde=True, alpha=0.7)\n",
    "plt.title('Distribution of Installment')\n",
    "\n",
    "plt.subplot(2, 2, 4)\n",
    "sns.histplot(loan_df['annual_inc'], bins=30, kde=True, alpha=0.7)\n",
    "plt.title('Distribution of Annual Income')\n",
    "\n",
    "plt.tight_layout()\n",
    "plt.show()\n"
   ]
  },
  {
   "cell_type": "code",
   "execution_count": null,
   "id": "a5c7e881",
   "metadata": {},
   "outputs": [],
   "source": [
    "# Remove initial bar plots for categorical variables\n",
    "# Bar Plots for Categorical Variables with improvements\n",
    "'''Bar Plots for Categorical Variables with Improvements:\n",
    "\n",
    "This block of code plots bar plots for categorical variables such as term, grade, employment length, home ownership, verification status, and purpose with improvements like proper rotation of x-axis labels.\n",
    "Insights: These bar plots visualize the distribution of each categorical variable, enabling us to analyze the frequency of different categories within each variable.'''\n",
    "\n",
    "\n",
    "plt.figure(figsize=(20, 10))\n",
    "\n",
    "plt.subplot(3, 2, 1)\n",
    "sns.countplot(x='term', data=loan_df, palette='bright')\n",
    "plt.title('Distribution of Term')\n",
    "plt.xticks(rotation=45)\n",
    "\n",
    "plt.subplot(3, 2, 2)\n",
    "sns.countplot(x='grade', data=loan_df, palette='bright')\n",
    "plt.title('Distribution of Grade')\n",
    "plt.xticks(rotation=45)\n",
    "\n",
    "plt.subplot(3, 2, 3)\n",
    "sns.countplot(x='emp_length', data=loan_df, palette='bright')\n",
    "plt.title('Distribution of Employment Length')\n",
    "plt.xticks(rotation=45)\n",
    "\n",
    "plt.subplot(3, 2, 4)\n",
    "sns.countplot(x='home_ownership', data=loan_df, palette='bright')\n",
    "plt.title('Distribution of Home Ownership')\n",
    "plt.xticks(rotation=45)\n",
    "\n",
    "plt.subplot(3, 2, 5)\n",
    "sns.countplot(x='verification_status', data=loan_df, palette='bright')\n",
    "plt.title('Distribution of Verification Status')\n",
    "plt.xticks(rotation=45)\n",
    "\n",
    "plt.subplot(3, 2, 6)\n",
    "sns.countplot(x='purpose', data=loan_df, palette='bright')\n",
    "plt.title('Distribution of Purpose')\n",
    "plt.xticks(rotation=45)\n",
    "\n",
    "plt.tight_layout()\n",
    "plt.show()\n"
   ]
  },
  {
   "cell_type": "code",
   "execution_count": null,
   "id": "faf653e0",
   "metadata": {},
   "outputs": [],
   "source": [
    "# Corrected Box Plots for Numerical Variables by Loan Status\n",
    "'''Corrected Box Plots for Numerical Variables by Loan Status:\n",
    "\n",
    "This block of code plots box plots for numerical variables (loan amount, interest rate, installment, annual income) grouped by loan status, with improvements like corrected titles.\n",
    "Insights: These box plots provide insights into how numerical variables vary across different loan statuses, helping us understand if there are significant differences in these variables for different loan outcomes.'''\n",
    "\n",
    "plt.figure(figsize=(14, 10))\n",
    "\n",
    "plt.subplot(2, 2, 1)\n",
    "sns.boxplot(x='loan_status_encoded', y='loan_amnt', data=loan_df, palette='bright')\n",
    "plt.title('Loan Amount by Loan Status')\n",
    "plt.xlabel('Loan Status')\n",
    "plt.xticks(rotation=45)\n",
    "\n",
    "plt.subplot(2, 2, 2)\n",
    "sns.boxplot(x='loan_status_encoded', y='int_rate', data=loan_df, palette='bright')\n",
    "plt.title('Interest Rate by Loan Status')\n",
    "plt.xlabel('Loan Status')\n",
    "plt.xticks(rotation=45)\n",
    "\n",
    "plt.subplot(2, 2, 3)\n",
    "sns.boxplot(x='loan_status_encoded', y='installment', data=loan_df, palette='bright')\n",
    "plt.title('Installment by Loan Status')\n",
    "plt.xlabel('Loan Status')\n",
    "plt.xticks(rotation=45)\n",
    "\n",
    "plt.subplot(2, 2, 4)\n",
    "sns.boxplot(x='loan_status_encoded', y='annual_inc', data=loan_df, palette='bright')\n",
    "plt.title('Annual Income by Loan Status')\n",
    "plt.xlabel('Loan Status')\n",
    "plt.xticks(rotation=45)\n",
    "\n",
    "plt.tight_layout()\n",
    "plt.show()\n"
   ]
  },
  {
   "cell_type": "code",
   "execution_count": null,
   "id": "78d2dd79",
   "metadata": {},
   "outputs": [],
   "source": [
    "from sklearn.metrics import confusion_matrix, classification_report\n",
    "from sklearn.model_selection import train_test_split\n",
    "from sklearn.ensemble import RandomForestClassifier\n",
    "from sklearn.metrics import accuracy_score\n",
    "# Split the data into features (X) and target variable (y)\n",
    "X = loan_df.drop('loan_status_encoded', axis=1)\n",
    "y = loan_df['loan_status_encoded']\n",
    "\n",
    "# Split the data into training and testing sets\n",
    "X_train, X_test, y_train, y_test = train_test_split(X, y, test_size=0.2, random_state=42)"
   ]
  },
  {
   "cell_type": "code",
   "execution_count": null,
   "id": "ed8b8be1",
   "metadata": {},
   "outputs": [],
   "source": [
    "import xgboost as xgb\n",
    "xgb_model = xgb.XGBClassifier(objective='multi:softprob', num_class=10, random_state=42)\n",
    "xgb_model.fit(X_train, y_train)\n",
    "\n",
    "# Step 6: Make Predictions\n",
    "y_pred = xgb_model.predict(X_test)\n",
    "\n",
    "# Step 7: Evaluate Model Performance\n",
    "accuracy = accuracy_score(y_test, y_pred)\n",
    "print(\"XGBoost Accuracy:\", accuracy)\n",
    "\n",
    "# Confusion matrix\n",
    "cm = confusion_matrix(y_test, y_pred)\n",
    "print(\"Confusion Matrix:\\n\", cm)\n",
    "\n",
    "# Classification report\n",
    "print(\"Classification Report:\\n\", classification_report(y_test, y_pred, zero_division=1))\n",
    "\n",
    "# Additional evaluation metrics or visualizations\n",
    "# ROC-AUC curve, feature importance plot, etc."
   ]
  },
  {
   "cell_type": "code",
   "execution_count": null,
   "id": "767fb784",
   "metadata": {},
   "outputs": [],
   "source": [
    "# Evaluate Model Performance - ROC-AUC Curve\n",
    "# Get the predicted probabilities for each class\n",
    "y_probs = xgb_model.predict_proba(X_test)\n",
    "\n",
    "# Compute ROC curve and ROC area for each class\n",
    "fpr = dict()\n",
    "tpr = dict()\n",
    "roc_auc = dict()\n",
    "for i in range(len(xgb_model.classes_)):\n",
    "    fpr[i], tpr[i], _ = roc_curve((y_test == xgb_model.classes_[i]).astype(int), y_probs[:, i])  # Convert boolean to int\n",
    "    roc_auc[i] = auc(fpr[i], tpr[i])\n",
    "\n",
    "# Plot ROC curve for each class\n",
    "plt.figure(figsize=(10, 8))\n",
    "for i in range(len(xgb_model.classes_)):\n",
    "    plt.plot(fpr[i], tpr[i], label='ROC curve (class {}) (area = {:.2f})'.format(xgb_model.classes_[i], roc_auc[i]))\n",
    "\n",
    "plt.plot([0, 1], [0, 1], 'k--')\n",
    "plt.xlim([0.0, 1.0])\n",
    "plt.ylim([0.0, 1.05])\n",
    "plt.xlabel('False Positive Rate')\n",
    "plt.ylabel('True Positive Rate')\n",
    "plt.title('ROC Curve')\n",
    "plt.legend(loc=\"lower right\")\n",
    "plt.show()\n",
    "\n",
    "# Step 7 (Continued): Evaluate Model Performance - Feature Importance Plot\n",
    "# Get feature importances from the trained model\n",
    "feature_importance = xgb_model.feature_importances_\n",
    "\n",
    "# Create a dataframe with feature names and their importances\n",
    "feature_importance_df = pd.DataFrame({'Feature': X_train.columns, 'Importance': feature_importance})\n",
    "\n",
    "# Sort features by importance in descending order\n",
    "feature_importance_df = feature_importance_df.sort_values(by='Importance', ascending=False)\n",
    "\n",
    "# Plot feature importance\n",
    "plt.figure(figsize=(12, 8))\n",
    "sns.barplot(x='Importance', y='Feature', data=feature_importance_df)\n",
    "plt.xlabel('Importance')\n",
    "plt.ylabel('Feature')\n",
    "plt.title('Feature Importance Plot')\n",
    "plt.show()\n"
   ]
  },
  {
   "cell_type": "code",
   "execution_count": null,
   "id": "4842f1ac",
   "metadata": {},
   "outputs": [],
   "source": []
  }
 ],
 "metadata": {
  "kernelspec": {
   "display_name": "Python 3 (ipykernel)",
   "language": "python",
   "name": "python3"
  },
  "language_info": {
   "codemirror_mode": {
    "name": "ipython",
    "version": 3
   },
   "file_extension": ".py",
   "mimetype": "text/x-python",
   "name": "python",
   "nbconvert_exporter": "python",
   "pygments_lexer": "ipython3",
   "version": "3.9.9"
  }
 },
 "nbformat": 4,
 "nbformat_minor": 5
}
